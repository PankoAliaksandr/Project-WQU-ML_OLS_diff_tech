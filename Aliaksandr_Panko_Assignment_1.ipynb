{
 "cells": [
  {
   "cell_type": "markdown",
   "metadata": {},
   "source": [
    "# Peer Review Assignment 1\n",
    "\n",
    "Name: Aliaksandr Panko\n",
    "\n",
    "Date: 07.10.18\n"
   ]
  },
  {
   "cell_type": "markdown",
   "metadata": {},
   "source": [
    "## Instructions\n",
    "* Work through the notebook, answer all questions, and do all problems\n",
    "* You are allowed to consult the internet, and discuss on the module forum\n",
    "* Your answers and solutions to the problems should be added to this notebook \n",
    "* Submit your final work as an html file\n",
    "* Note that the solutions to the problems used python version 3.6.4. \n",
    "* Hint: In this assignment you work with a single linear regression problem where you generate data yourself. This means that you have an idea of what the computed solution should look like. \n",
    "\n",
    "## Marking Scheme (Theoretical Questions)\n",
    "* All questions are marked out of 3.\n",
    "* No valid answer: 0 marks\n",
    "* Demonstration of grasp of basic idea: 1 mark\n",
    "* 'Perfect' answer: 3 marks\n",
    "\n",
    "## Marking Scheme (Practical Problems)\n",
    "* All problems are marked out of 5.\n",
    "* No valid answer: 0 marks\n",
    "* Demonstration of grasp of basic idea: 2 mark\n",
    "* Working code: 5 marks\n",
    "---"
   ]
  },
  {
   "cell_type": "markdown",
   "metadata": {},
   "source": [
    "# Regression\n",
    "\n",
    "Let's start with the simplest possible regression problem: Solve the following system of linear equations,\n",
    "\n",
    "$$\n",
    "x = 1.0\\\\\n",
    "x = 0.5\\\\\n",
    "x = 0.7\\\\\n",
    "$$\n",
    "At first glance this does not make sense, how can $x$ take on different values than these? In practice however, this happens all the time. Think of the situation where you measure a quantity multiple times; every time you measure - a slightly different value - just as in the equations above. This is a simple example of an over-determined system.\n",
    "\n",
    "---\n",
    "Answer the following questions (all calculations should be done by hand, written here in latex):"
   ]
  },
  {
   "cell_type": "markdown",
   "metadata": {},
   "source": [
    "### Questions 1:\n",
    "\n",
    "1.1) Write the system above as a *linear* system of equation of the form $Ax = b$. <br> **Answer (3 marks):**"
   ]
  },
  {
   "cell_type": "markdown",
   "metadata": {},
   "source": [
    "   $$ \\left[ \\begin{array}{l} 1\\\\1\\\\1 \\end{array}\\right] x = \\left[ \\begin{array}{l} 1.0\\\\0.5\\\\0.7 \\end{array}\\right]\n",
    "   $$"
   ]
  },
  {
   "cell_type": "markdown",
   "metadata": {},
   "source": [
    "1.2) Write down the normal equations, $A^TA x = A^T b$ for this system.<br>\n",
    "   **Answer (3 marks):**"
   ]
  },
  {
   "cell_type": "markdown",
   "metadata": {},
   "source": [
    "   $$\\left[ \\begin{array}{lll} 1&1&1 \\end{array}\\right] \\left[ \\begin{array}{l} 1\\\\1\\\\1 \\end{array}\\right] x = \\left[ \\begin{array}{lll} 1&1&1 \\end{array}\\right] \\left[ \\begin{array}{l} 1.0\\\\0.5\\\\0.7 \\end{array}\\right]\n",
    "   $$ "
   ]
  },
  {
   "cell_type": "markdown",
   "metadata": {},
   "source": [
    "1.3) Solve the system of normal equations for the system above. Is there an intuitive interpretation of the solution \n",
    "\n",
    "**Answer (3 marks):**"
   ]
  },
  {
   "cell_type": "markdown",
   "metadata": {},
   "source": [
    "$$ 3x = (1+0.5+0.7) $$\n",
    "$$ x = \\frac13(1+0.5+0.7)= 0.7333 $$\n",
    "\n",
    "$ x $ is the average of all observations."
   ]
  },
  {
   "cell_type": "markdown",
   "metadata": {},
   "source": [
    "---\n",
    "Let's now revisit the well-known linear regression problem. We'll first formulate it as the solution of an over-determined system, and then as an optimisation problem. For this example we'll use the computer to solve the problem.\n",
    "\n",
    "We are given data in the form of $(x,y)$ pairs and we know that, given $x$, that $y = mx +c$. Since one can fit a straight line through two points, we only need two pairs to fit a line. But there is a rub, the $y$ values are contaminated by noise (at this point you may want to look at the example below), and it is not possible to find a single line that will pass through all points. We therefore need to find the line that best fits the given values. We'll lead you through the solution.\n",
    "\n",
    "Given $(x_n,y_n),\\;\\;n=1,\\ldots,N$, we need to solve for $m$ and $b$ from\n",
    "$$\n",
    "mx_n +b = y_n, \\;\\;n=1,\\ldots,N.\n",
    "$$"
   ]
  },
  {
   "cell_type": "markdown",
   "metadata": {},
   "source": [
    "---\n",
    "### Questions 2:\n",
    "\n",
    "2.1) Write this as a linear system where the unknowns are $m$ and $b$.<br>\n",
    "   **Answer (3 marks):**\n",
    "   "
   ]
  },
  {
   "cell_type": "markdown",
   "metadata": {},
   "source": [
    "$$\n",
    "   \\left[ \\begin{array}{ll} x_1 & 1\\\\ \\vdots& \\vdots \\\\ x_N & 1 \\end{array}\\right]\n",
    "   \\left[ \\begin{array}{l} m\\\\b \\end{array} \\right] =  \\left[ \\begin{array}{l} y_1\\\\ \\vdots \\\\ y_N\\end{array}\\right].\n",
    "   $$"
   ]
  },
  {
   "cell_type": "markdown",
   "metadata": {},
   "source": [
    "2.2) Write down, and solve the normal equations for the unknows $m$ and $b$.<br>\n",
    "   **Answer (3 marks):**"
   ]
  },
  {
   "cell_type": "markdown",
   "metadata": {},
   "source": [
    "   $$\n",
    "   \\left[ \\begin{array}{lcl} x_1 & \\cdots & x_N\\\\\n",
    "                              1  & \\cdots & 1 \\end{array}\\right]\\left[ \\begin{array}{ll} x_1 & 1\\\\ \\vdots& \\vdots \\\\ x_N & 1 \\end{array}\\right]\n",
    "   \\left[ \\begin{array}{l} m\\\\b \\end{array} \\right] = \n",
    "   \\left[ \\begin{array}{lcl} x_1 & \\cdots & x_N\\\\\n",
    "                              1  & \\cdots & 1 \\end{array}\\right] \\left[ \\begin{array}{l} y_1\\\\ \\vdots \\\\ y_N\\end{array}\\right]\n",
    "   $$\n",
    "   or\n",
    "   $$ \n",
    "   \\left[ \\begin{array}{ll} \\sum_n x_n^2  & \\sum_n x_n\\\\\n",
    "                            \\sum_n x_n  & N \\end{array}\\right]\\left[ \\begin{array}{l} m\\\\b \\end{array} \\right] = \\left[ \\begin{array}{l} \\sum_n x_n y_n \\\\\n",
    "                                                                                         \\sum_n y_n\\\\\n",
    "                            \\end{array}\\right],\n",
    "   $$\n",
    "   IF $ Mx = b $, then $ x = M^{-1} * b$ .\n",
    "   \n",
    "   Let\n",
    "   \n",
    "   $$ M = \\left[ \\begin{array}{ll} \\sum_n x_n^2  & \\sum_n x_n      \\\\\n",
    "                                    \\sum_n x_n   & N \\end{array}\\right]\n",
    "   $$\n",
    "   \n",
    "   then \n",
    "   $$\n",
    "   M^{-1} = \\frac{1}{N\\sum_n x_n^2- (\\sum_n x_n)^2} \\left[ \\begin{array}{cc}  N  & -\\sum_n x_n\\\\\n",
    "            -\\sum_n x_n  &  \\sum_n x_n^2\\end{array}\\right]\n",
    "   $$\n",
    "                            \n",
    "   $$\n",
    "   \\left[ \\begin{array}{l} m\\\\b \\end{array} \\right] = \\frac{1}{N\\sum_n x_n^2- (\\sum_n x_n)^2} \\left[ \\begin{array}{cc}  N  & -\\sum_n x_n\\\\\n",
    "                            -\\sum_n x_n  &  \\sum_n x_n^2\\end{array}\\right] \\left[ \\begin{array}{l} \\sum_n x_n y_n \\\\\n",
    "                                                                                         \\sum_n y_n\\\\\n",
    "                            \\end{array}\\right]\n",
    "   $$\n",
    "   "
   ]
  },
  {
   "cell_type": "markdown",
   "metadata": {},
   "source": [
    "Next we treat this as an optimisation problem. Instead of using the normal equations, we now look for $m$ and $b$ that minimises the mean squared error,\n",
    "$$\n",
    "E = \\frac1N\\sum_{n=1}^N (mx_n + b - y_n)^2.\n",
    "$$"
   ]
  },
  {
   "cell_type": "markdown",
   "metadata": {},
   "source": [
    "---\n",
    "\n",
    "### Questions 3:\n",
    "\n",
    "3.1) Write down the equations $\\frac{\\partial E}{\\partial m} = 0$ and $\\frac{\\partial E}{\\partial b} =0$.<br>\n",
    "   **Answer (3 marks):**"
   ]
  },
  {
   "cell_type": "markdown",
   "metadata": {},
   "source": [
    "$$ \\frac{2}{N} \\sum_n x_n (mx_n +b - y_n) = 0,\n",
    "   $$\n",
    "   and\n",
    "   $$ \\frac2N \\sum_n (mx_n +b - y_n) = 0.\n",
    "   $$"
   ]
  },
  {
   "cell_type": "markdown",
   "metadata": {},
   "source": [
    "3.2) Write the equations as a linear system, and solve for $m$ and $b$. How does your answer compare with the answer you obtained above?<br>\n",
    "   **Answer (3 marks):**<br>"
   ]
  },
  {
   "cell_type": "markdown",
   "metadata": {},
   "source": [
    " $$ \n",
    "   \\left[ \\begin{array}{ll} \\sum_n x_n^2  & \\sum_n x_n\\\\\n",
    "                            \\sum_n x_n  & N \\end{array}\\right]\\left[ \\begin{array}{l} m\\\\b \\end{array} \\right] = \\left[ \\begin{array}{l} \\sum_n x_n y_n \\\\\n",
    "                                                                                         \\sum_n y_n\\\\\n",
    "                            \\end{array}\\right],\n",
    "   $$"
   ]
  },
  {
   "cell_type": "markdown",
   "metadata": {},
   "source": [
    "It should be clear that these are the same as the normal equations."
   ]
  },
  {
   "cell_type": "markdown",
   "metadata": {},
   "source": [
    "---"
   ]
  },
  {
   "cell_type": "markdown",
   "metadata": {},
   "source": [
    "We now apply these ideas to a numerical problem. First we need to import a few models"
   ]
  },
  {
   "cell_type": "code",
   "execution_count": 19,
   "metadata": {},
   "outputs": [],
   "source": [
    "# This ensures that any graphs we generate will be part of the notebook, instead of\n",
    "# opening in a separate window\n",
    "%matplotlib inline "
   ]
  },
  {
   "cell_type": "code",
   "execution_count": 20,
   "metadata": {},
   "outputs": [],
   "source": [
    "import numpy as np # import the numerical linear algebra module\n",
    "from matplotlib import pyplot as plt"
   ]
  },
  {
   "cell_type": "markdown",
   "metadata": {},
   "source": [
    "## Generate and display data.\n",
    "In the code block below we generate data with a linear relationship and then plot."
   ]
  },
  {
   "cell_type": "code",
   "execution_count": 21,
   "metadata": {},
   "outputs": [
    {
     "data": {
      "image/png": "[encoded data removed]",
      "text/plain": [
       "<Figure size 432x288 with 1 Axes>"
      ]
     },
     "metadata": {
      "needs_background": "light"
     },
     "output_type": "display_data"
    }
   ],
   "source": [
    "x_train = np.linspace(0,1,100)\n",
    "y_train = 0.2*x_train + 1 + 0.01*np.random.randn(x_train.shape[0])\n",
    "\n",
    "plt.plot(x_train, y_train, 'r.')\n",
    "plt.show()"
   ]
  },
  {
   "cell_type": "markdown",
   "metadata": {},
   "source": [
    "### Problem 1: Find $m$ and $b$ using numpy\n",
    "\n",
    "1. Using numpy, create $A$ and $b$ for the system $Ax=b$ (here $x$ is the vector containing the unknown weight $w$ and offset $b$). <br> **Answer (5 marks)**\n",
    "\n",
    "2. Solve the normal equations for $m$ and $b$. <br> **Answer (5 marks)**\n"
   ]
  },
  {
   "cell_type": "code",
   "execution_count": 27,
   "metadata": {},
   "outputs": [
    {
     "name": "stdout",
     "output_type": "stream",
     "text": [
      "0.20239941201034667 0.9990749818686215\n"
     ]
    }
   ],
   "source": [
    "b = y_train\n",
    "col2 = np.ones((x_train.shape))\n",
    "A = np.vstack((x_train, col2)).T\n",
    "\n",
    "# Normal equations\n",
    "A_normal = np.dot(A.T,A)\n",
    "b_normal = np.dot(A.T,b)\n",
    "\n",
    "# Solve\n",
    "m, b = np.linalg.solve(A_normal, b_normal)\n",
    "\n",
    "# The computed values of m and b should be compared with the values\n",
    "# m = 0.2 and b = 1.0, used to generate the data\n",
    "print(m, b)"
   ]
  },
  {
   "cell_type": "markdown",
   "metadata": {},
   "source": [
    "---"
   ]
  },
  {
   "cell_type": "markdown",
   "metadata": {},
   "source": [
    "### Question 4:\n",
    "1. Why do the numerical values differ from the values used to generate the data?\n",
    "<br> **Answer (3 marks):**"
   ]
  },
  {
   "cell_type": "markdown",
   "metadata": {},
   "source": [
    "0.01*np.random.randn(x_train.shape[0]) - this part adds a noise resulting the difference."
   ]
  },
  {
   "cell_type": "markdown",
   "metadata": {},
   "source": [
    "---\n",
    "## Using normal equations is numerically unstable\n",
    "\n",
    "Although it does not matter much for the simple example above, in general it is bad practice to use the normal equations to solve the least squares problem. Surprisingly enough, the culprit is the *covariance* matrix $A^TA$. We cannot compute it in a numerically stable fashion. Technically, its condition number is roughly the square of the condition number of $A$ and in practice this means that we loose roughly half the precision if we calculate the covariance matrix.\n",
    "\n",
    "A full discussion is beyond the scope of the course, but the interested reader is encouraged to consult, Lloyd N. Trefethen and David Bau, III. NUMERICAL LINEAR ALGEBRA, SIAM 1997.\n",
    "\n",
    "A numerical stable way of solving the linear least squares problem is to first do a $QR$ factorization of $A$. If $A$ is an $m\\times n$ dimensional array with $m>n$ (more equations than unknowns), then the $QR$ factorization is given by\n",
    "$$\n",
    "A = QR,\n",
    "$$\n",
    "where $Q$ is an $m\\times n$ matrix with orthogonal columns, i.e. $Q^TQ=I$, and $R$ is an $n\\times n$ upper triangular matrix. Assuming that $A$ has full rank, i.e. its columns are linearly independent, then it can be shown that $R$ is non-singular. One has to take some care, but there are a number of numerically stable algorithms to compute the $QR$ factorisation. \n",
    "\n",
    "Let's now substitute the $A=QR$ in the normal equations,\n",
    "$$\n",
    "(QR)^T QR x = (QR)^T b.\n",
    "$$\n",
    "Taking the orthogonality of $Q$ and the non-singularity of $R$ into account, this equation boils down to\n",
    "$$\n",
    "Rx = Q^Tb.\n",
    "$$\n",
    "Since $R$ is non-singular and upper traingular, this system is easily and efficiently solved.\n",
    "\n",
    "What has happened here? After we calculated the $QR$ algorithm in a stable manner, we did many of the calculations analytically (using $Q^TQ=I$ and cancelling $R^T$ from both sides), and that is done with infinite precision!"
   ]
  },
  {
   "cell_type": "markdown",
   "metadata": {},
   "source": [
    "---\n",
    "### Problem 2:\n",
    "1. Solve the linear least squares problem using the $QR$ factorization. With numpy. <br> ** Ansewr (5 marks):**"
   ]
  },
  {
   "cell_type": "code",
   "execution_count": 28,
   "metadata": {},
   "outputs": [
    {
     "name": "stdout",
     "output_type": "stream",
     "text": [
      "(100, 2) \n",
      "\n",
      "R =  [[-5.78806388 -8.6384672 ]\n",
      " [ 0.         -5.03754746]] \n",
      "\n",
      "Q^TQ =  [[ 1.00000000e+00 -1.11022302e-16]\n",
      " [-1.11022302e-16  1.00000000e+00]]\n"
     ]
    }
   ],
   "source": [
    "# Your code here\n",
    "Q, R = np.linalg.qr(A)\n",
    "# End of your code\n",
    "\n",
    "print(Q.shape, '\\n')\n",
    "print('R = ', R, '\\n')\n",
    "print('Q^TQ = ', np.dot(Q.T,Q))"
   ]
  },
  {
   "cell_type": "code",
   "execution_count": 29,
   "metadata": {},
   "outputs": [
    {
     "name": "stdout",
     "output_type": "stream",
     "text": [
      "0.20239941201034542 0.9990749818686221\n"
     ]
    }
   ],
   "source": [
    "# Your code here\n",
    "m, b = np.linalg.solve(R, Q.T.dot(y_train))\n",
    "# End of your code\n",
    "\n",
    "print(m,b)"
   ]
  },
  {
   "cell_type": "markdown",
   "metadata": {},
   "source": [
    "# Solve using scikit-learn\n",
    "\n",
    "First we need to import the necessary module from scikit-learn"
   ]
  },
  {
   "cell_type": "code",
   "execution_count": 30,
   "metadata": {},
   "outputs": [],
   "source": [
    "# Import modules from sklearn\n",
    "from sklearn.linear_model import  LinearRegression"
   ]
  },
  {
   "cell_type": "markdown",
   "metadata": {},
   "source": [
    "## Problem 3:\n",
    "\n",
    "1. Solve the linear least squares problem using sklearn. <br> ** Answer (5 marks):**"
   ]
  },
  {
   "cell_type": "code",
   "execution_count": 35,
   "metadata": {},
   "outputs": [
    {
     "name": "stdout",
     "output_type": "stream",
     "text": [
      "[0.20239941] 0.9990749818686223\n"
     ]
    }
   ],
   "source": [
    "# Fit the data to the model\n",
    "lin_reg = LinearRegression()  # Create and instance \n",
    "lin_reg.fit(x_train.reshape(100,1), y_train)\n",
    "\n",
    "# Print the weight and offset. The values are the same as from the normal equations.\n",
    "print(lin_reg.coef_, lin_reg.intercept_)\n"
   ]
  },
  {
   "cell_type": "markdown",
   "metadata": {},
   "source": [
    "# Using Keras\n",
    "\n",
    "First import the necessary modules from keras"
   ]
  },
  {
   "cell_type": "code",
   "execution_count": 36,
   "metadata": {},
   "outputs": [],
   "source": [
    "from keras.models import Sequential\n",
    "from keras.layers import Dense\n",
    "from keras.optimizers import Adam"
   ]
  },
  {
   "cell_type": "markdown",
   "metadata": {},
   "source": [
    "## Problem 4:\n",
    "\n",
    "1. Solve the linear least squares problem using keras. <br> ** Answer (5 marks):**\n",
    "2. Use the Adam optimiser and experiment with different learning rates. <br> ** Answer (5 marks):**\n",
    "\n",
    "**Note:** You should find everything you need on the internet\n",
    "* https://keras.io/getting-started/sequential-model-guide/\n",
    "* https://keras.io/optimizers/\n",
    "* https://keras.io/models/sequential/"
   ]
  },
  {
   "cell_type": "code",
   "execution_count": 61,
   "metadata": {},
   "outputs": [
    {
     "data": {
      "text/plain": [
       "<keras.callbacks.History at 0x16e38f60>"
      ]
     },
     "execution_count": 61,
     "metadata": {},
     "output_type": "execute_result"
    }
   ],
   "source": [
    "model = Sequential()\n",
    "model.add(Dense(1, input_dim=1, kernel_initializer='normal', activation='linear'))\n",
    "\n",
    "# Compile model\n",
    "model.compile(loss='mean_squared_error', optimizer=Adam(lr=0.02), metrics=['mse'])\n",
    "\n",
    "model.fit(x_train, y_train, \n",
    "          batch_size=20, epochs=300, verbose=0)"
   ]
  },
  {
   "cell_type": "code",
   "execution_count": 62,
   "metadata": {},
   "outputs": [
    {
     "data": {
      "text/plain": [
       "[array([[0.20245874]], dtype=float32), array([0.9992256], dtype=float32)]"
      ]
     },
     "execution_count": 62,
     "metadata": {},
     "output_type": "execute_result"
    }
   ],
   "source": [
    "# Print model weights, might not be exactly the same as above.\n",
    "model.get_weights()"
   ]
  },
  {
   "cell_type": "code",
   "execution_count": null,
   "metadata": {},
   "outputs": [],
   "source": []
  }
 ],
 "metadata": {
  "kernelspec": {
   "display_name": "Python 3",
   "language": "python",
   "name": "python3"
  },
  "language_info": {
   "codemirror_mode": {
    "name": "ipython",
    "version": 3
   },
   "file_extension": ".py",
   "mimetype": "text/x-python",
   "name": "python",
   "nbconvert_exporter": "python",
   "pygments_lexer": "ipython3",
   "version": "3.6.6"
  }
 },
 "nbformat": 4,
 "nbformat_minor": 2
}
